{
  "nbformat": 4,
  "nbformat_minor": 0,
  "metadata": {
    "colab": {
      "provenance": [],
      "include_colab_link": true
    },
    "kernelspec": {
      "name": "python3",
      "display_name": "Python 3"
    },
    "language_info": {
      "name": "python"
    }
  },
  "cells": [
    {
      "cell_type": "markdown",
      "metadata": {
        "id": "view-in-github",
        "colab_type": "text"
      },
      "source": [
        "<a href=\"https://colab.research.google.com/github/GSPriya13/Twibuzz/blob/main/nltk.ipynb\" target=\"_parent\"><img src=\"https://colab.research.google.com/assets/colab-badge.svg\" alt=\"Open In Colab\"/></a>"
      ]
    },
    {
      "cell_type": "code",
      "execution_count": null,
      "metadata": {
        "colab": {
          "base_uri": "https://localhost:8080/"
        },
        "id": "kjL9f25sDwgs",
        "outputId": "2bd1b6a4-9ab8-4caa-a06c-685d658ecc4c"
      },
      "outputs": [
        {
          "output_type": "stream",
          "name": "stdout",
          "text": [
            "Requirement already satisfied: nltk in /usr/local/lib/python3.11/dist-packages (3.9.1)\n",
            "Requirement already satisfied: pandas in /usr/local/lib/python3.11/dist-packages (2.2.2)\n",
            "Requirement already satisfied: click in /usr/local/lib/python3.11/dist-packages (from nltk) (8.1.8)\n",
            "Requirement already satisfied: joblib in /usr/local/lib/python3.11/dist-packages (from nltk) (1.4.2)\n",
            "Requirement already satisfied: regex>=2021.8.3 in /usr/local/lib/python3.11/dist-packages (from nltk) (2024.11.6)\n",
            "Requirement already satisfied: tqdm in /usr/local/lib/python3.11/dist-packages (from nltk) (4.67.1)\n",
            "Requirement already satisfied: numpy>=1.23.2 in /usr/local/lib/python3.11/dist-packages (from pandas) (1.26.4)\n",
            "Requirement already satisfied: python-dateutil>=2.8.2 in /usr/local/lib/python3.11/dist-packages (from pandas) (2.8.2)\n",
            "Requirement already satisfied: pytz>=2020.1 in /usr/local/lib/python3.11/dist-packages (from pandas) (2025.1)\n",
            "Requirement already satisfied: tzdata>=2022.7 in /usr/local/lib/python3.11/dist-packages (from pandas) (2025.1)\n",
            "Requirement already satisfied: six>=1.5 in /usr/local/lib/python3.11/dist-packages (from python-dateutil>=2.8.2->pandas) (1.17.0)\n"
          ]
        }
      ],
      "source": [
        "!pip install nltk pandas"
      ]
    },
    {
      "cell_type": "code",
      "source": [
        "import nltk\n",
        "import pandas as pd\n",
        "import json\n",
        "from nltk.sentiment import SentimentIntensityAnalyzer\n",
        "\n",
        "# Download the VADER lexicon (only needed once)\n",
        "nltk.download('vader_lexicon')"
      ],
      "metadata": {
        "colab": {
          "base_uri": "https://localhost:8080/"
        },
        "id": "7Sh2yUKWD1yo",
        "outputId": "97bbdabc-9c4f-4f0c-dd9c-e3a7215580f0"
      },
      "execution_count": null,
      "outputs": [
        {
          "output_type": "stream",
          "name": "stderr",
          "text": [
            "[nltk_data] Downloading package vader_lexicon to /root/nltk_data...\n"
          ]
        },
        {
          "output_type": "execute_result",
          "data": {
            "text/plain": [
              "True"
            ]
          },
          "metadata": {},
          "execution_count": 2
        }
      ]
    },
    {
      "cell_type": "code",
      "source": [
        "# Load JSON file\n",
        "with open('/content/tweets.json', 'r') as file:\n",
        "    data = json.load(file)\n",
        "\n",
        "# Convert to DataFrame\n",
        "df = pd.DataFrame(data)\n",
        "\n",
        "# Check the structure\n",
        "print(df.head())"
      ],
      "metadata": {
        "colab": {
          "base_uri": "https://localhost:8080/"
        },
        "id": "PR4Iweg4D8Wu",
        "outputId": "4728d663-0ca4-4261-c4e0-18d91931aff5"
      },
      "execution_count": null,
      "outputs": [
        {
          "output_type": "stream",
          "name": "stdout",
          "text": [
            "                                            entities  \\\n",
            "0  {'urls': [{'start': 82, 'end': 105, 'url': 'ht...   \n",
            "1  {'hashtags': [{'start': 76, 'end': 97, 'tag': ...   \n",
            "2  {'mentions': [{'start': 3, 'end': 18, 'usernam...   \n",
            "3  {'urls': [{'start': 160, 'end': 183, 'url': 'h...   \n",
            "4  {'urls': [{'start': 113, 'end': 136, 'url': 'h...   \n",
            "\n",
            "                                                text  \\\n",
            "0  RT @_s_l_a_t_e_: 🎄 Happy Holidays, SL8 Family!...   \n",
            "1  ‌How did you spend your Christmas? 🤭\\nWere you...   \n",
            "2  RT @LeeAndersonMP_: How dare people accuse us ...   \n",
            "3  New Year Lucky Roulette\\nA limited-time New Ye...   \n",
            "4  RT @XenoLola: Rate my my body in the comments ...   \n",
            "\n",
            "                 created_at edit_history_tweet_ids  \\\n",
            "0  2024-12-28T11:09:37.000Z  [1872963109448712298]   \n",
            "1  2024-12-28T11:09:37.000Z  [1872963109180326012]   \n",
            "2  2024-12-28T11:09:37.000Z  [1872963108949639541]   \n",
            "3  2024-12-28T11:09:37.000Z  [1872963108001726836]   \n",
            "4  2024-12-28T11:09:37.000Z  [1872963106651160751]   \n",
            "\n",
            "                                      public_metrics                   id  \\\n",
            "0  {'retweet_count': 3254, 'reply_count': 0, 'lik...  1872963109448712298   \n",
            "1  {'retweet_count': 0, 'reply_count': 0, 'like_c...  1872963109180326012   \n",
            "2  {'retweet_count': 723, 'reply_count': 0, 'like...  1872963108949639541   \n",
            "3  {'retweet_count': 0, 'reply_count': 0, 'like_c...  1872963108001726836   \n",
            "4  {'retweet_count': 1243, 'reply_count': 0, 'lik...  1872963106651160751   \n",
            "\n",
            "             author_id                                               user  \\\n",
            "0  1872769255747534848  {'name': 'Coke Love', 'id': '18727692557475348...   \n",
            "1  1696810902618550272  {'name': 'DVybeNG', 'id': '1696810902618550272...   \n",
            "2  1429891897636659208  {'name': 'Russell Craft', 'id': '1429891897636...   \n",
            "3           1726666656  {'name': 'steve butt', 'id': '1726666656', 'us...   \n",
            "4            225666378  {'name': 'aliceboo 😛', 'id': '225666378', 'use...   \n",
            "\n",
            "  place  \n",
            "0    {}  \n",
            "1    {}  \n",
            "2    {}  \n",
            "3    {}  \n",
            "4    {}  \n"
          ]
        }
      ]
    },
    {
      "cell_type": "code",
      "source": [
        "# Initialize Sentiment Analyzer\n",
        "sia = SentimentIntensityAnalyzer()\n",
        "\n",
        "# Function to classify sentiment\n",
        "def get_sentiment(text):\n",
        "    score = sia.polarity_scores(text)['compound']\n",
        "    if score > 0.05:\n",
        "        return 'positive'\n",
        "    elif score < -0.05:\n",
        "        return 'negative'\n",
        "    else:\n",
        "        return 'neutral'\n",
        "\n",
        "# Apply sentiment analysis\n",
        "df['sentiment'] = df['text'].apply(get_sentiment)\n",
        "\n",
        "# Check the output\n",
        "print(df[['text', 'sentiment']].head())"
      ],
      "metadata": {
        "colab": {
          "base_uri": "https://localhost:8080/"
        },
        "id": "kAyM20tgEHMs",
        "outputId": "60480918-7d41-46ec-91af-c42c036c164c"
      },
      "execution_count": null,
      "outputs": [
        {
          "output_type": "stream",
          "name": "stdout",
          "text": [
            "                                                text sentiment\n",
            "0  RT @_s_l_a_t_e_: 🎄 Happy Holidays, SL8 Family!...  positive\n",
            "1  ‌How did you spend your Christmas? 🤭\\nWere you...   neutral\n",
            "2  RT @LeeAndersonMP_: How dare people accuse us ...  positive\n",
            "3  New Year Lucky Roulette\\nA limited-time New Ye...  positive\n",
            "4  RT @XenoLola: Rate my my body in the comments ...  positive\n"
          ]
        }
      ]
    },
    {
      "cell_type": "code",
      "source": [
        "print(df['sentiment'].value_counts())"
      ],
      "metadata": {
        "colab": {
          "base_uri": "https://localhost:8080/"
        },
        "id": "sQhmMXcyEJ9F",
        "outputId": "9a329281-6242-4365-b7d9-935a6545363a"
      },
      "execution_count": null,
      "outputs": [
        {
          "output_type": "stream",
          "name": "stdout",
          "text": [
            "sentiment\n",
            "positive    64\n",
            "neutral     25\n",
            "negative    11\n",
            "Name: count, dtype: int64\n"
          ]
        }
      ]
    },
    {
      "cell_type": "code",
      "source": [
        "import re\n",
        "\n",
        "# Function to extract hashtags\n",
        "def extract_hashtags(text):\n",
        "    return re.findall(r'#\\w+', text)\n",
        "\n",
        "# Create a column for hashtags\n",
        "df['hashtags'] = df['text'].apply(extract_hashtags)\n",
        "\n",
        "# Flatten and count hashtags\n",
        "hashtags = sum(df['hashtags'], [])\n",
        "hashtag_counts = pd.Series(hashtags).value_counts()\n",
        "\n",
        "print(hashtag_counts.head(10))"
      ],
      "metadata": {
        "colab": {
          "base_uri": "https://localhost:8080/"
        },
        "id": "K9OWpaxWEMKr",
        "outputId": "055f2495-946d-4f5d-d7d7-0f19b809404c"
      },
      "execution_count": null,
      "outputs": [
        {
          "output_type": "stream",
          "name": "stdout",
          "text": [
            "#จ                       3\n",
            "#RankofArchen            3\n",
            "#NIKKE                   2\n",
            "#NewYearLuckyRoulette    2\n",
            "#MakeEveryMomentAVybe    1\n",
            "#TrollsOC                1\n",
            "#TrollsTWT               1\n",
            "#THERA                   1\n",
            "#WinterSong              1\n",
            "#EXILETAKAHIRO           1\n",
            "Name: count, dtype: int64\n"
          ]
        }
      ]
    },
    {
      "cell_type": "code",
      "source": [
        "df.to_csv('processed_tweets.csv', index=False)"
      ],
      "metadata": {
        "id": "jOIreyzFEOv2"
      },
      "execution_count": null,
      "outputs": []
    }
  ]
}